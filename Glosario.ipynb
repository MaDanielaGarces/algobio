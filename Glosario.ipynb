{
  "nbformat": 4,
  "nbformat_minor": 0,
  "metadata": {
    "colab": {
      "provenance": []
    },
    "kernelspec": {
      "name": "python3",
      "display_name": "Python 3"
    },
    "language_info": {
      "name": "python"
    }
  },
  "cells": [
    {
      "cell_type": "code",
      "execution_count": null,
      "metadata": {
        "id": "LaF6MfoifX-t"
      },
      "outputs": [],
      "source": [
        "# Glosario\n",
        "\n",
        "# 1. CNN = Aprendizaje a través de convoluciones, sirve para el reconocimiento de imágenes (Henaff et al, 2015)\n",
        "# 2. GANs = Son redes que se basan en el aprendizaje no supervisado para entrenar dos modelos de manera simultánea (Mnih et al. 2014).\n",
        "# 3. Input layers = Son las capas donde se almacenan los datos que no se procesan de las imágenes pero que se procesan en la red, usa tres canales de red (Szegedy et al. 2015).\n",
        "# 4. Circunvolucion = Es la descripción matemática de la fusión de dos conjuntos de información. Toma una entrada, aplica un núcleo de convolución y da una salida con características. Es el detector de características de CNN (Graves, 2012).\n",
        "# 5. Mapas de activación = Cuando una neurona deja pasar la información se genera un resultado numérico creándose una función de activación por lo que se genera un volumen de entrada y de salida (Milletari et al, 2016)\n",
        "\n",
        "# Bibliografia\n",
        "\n",
        "# Graves. 2012. Supervised Sequence Labelling with Recurrent Neural Networks.\n",
        "# Henaff, Bruna, and LeCun. 2015. Deep Convolutional Networks on Graph-Structured Data.\n",
        "# Milletari, Navab, and Ahmadi. 2016. V-Net: Fully Convolutional Neural Networks for Volumetric Medical Image Segmentation.\n",
        "# Mnih et al. 2014. Recurrent Models of Visual Attention.\n",
        "# Szegedy et al. 2015. Going Deeper with Convolutions."
      ]
    }
  ]
}